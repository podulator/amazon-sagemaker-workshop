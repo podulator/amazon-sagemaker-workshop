{
 "cells": [
  {
   "cell_type": "markdown",
   "metadata": {},
   "source": [
    "# Cleanup \n",
    "\n",
    "**Caution!** Below code will clean-up all data set groups and associated objects in Amazon Personalize. Execute multiple times if required! "
   ]
  },
  {
   "cell_type": "code",
   "execution_count": 1,
   "metadata": {},
   "outputs": [],
   "source": [
    "%matplotlib inline\n",
    "\n",
    "import boto3, os\n",
    "import json\n",
    "import time\n",
    "import sagemaker\n",
    "\n",
    "personalize = boto3.client('personalize')\n",
    "os.environ['AWS_DEFAULT_REGION']=\"us-east-1\"\n"
   ]
  },
  {
   "cell_type": "code",
   "execution_count": 23,
   "metadata": {},
   "outputs": [],
   "source": [
    "import time\n",
    "def delete_solution(arn):\n",
    "    response = personalize.delete_solution(\n",
    "        solutionArn=arn\n",
    "    )\n",
    "    print(\"Delete solution:\" + str(response) + '\\n')\n",
    "    time.sleep(30)\n",
    "\n",
    "def delete_campaign(arn):\n",
    "    response = personalize.delete_campaign(\n",
    "        campaignArn=arn\n",
    "    )\n",
    "    print(\"Delete Campaign:\" + str(response) + '\\n')\n",
    "    time.sleep(30)\n",
    "    \n",
    "def delete_dataset(arn):\n",
    "    response = personalize.delete_dataset(\n",
    "        datasetArn=arn\n",
    "    )\n",
    "    print(\"Delete Dataset:\" + str(response) + '\\n')\n",
    "    time.sleep(30)\n",
    "    \n",
    "def delete_dataset_group(arn):\n",
    "    response = personalize.list_solutions(\n",
    "        datasetGroupArn=arn\n",
    "    )\n",
    "    for solution in response['solutions']:\n",
    "        response = personalize.list_campaigns(\n",
    "            solutionArn=solution['solutionArn']\n",
    "        )\n",
    "        for campaign in response['campaigns']:\n",
    "            delete_campaign(campaign['campaignArn'])\n",
    "        delete_solution(solution['solutionArn'])\n",
    "    \n",
    "    response = personalize.list_datasets(\n",
    "        datasetGroupArn=arn\n",
    "    )\n",
    "    for dataset in response['datasets']:\n",
    "        delete_dataset(dataset['datasetArn'])\n",
    "    \n",
    "    response = personalize.delete_dataset_group(\n",
    "        datasetGroupArn=arn\n",
    "    )\n",
    "    print(\"Delete Dataset Group:\" + str(response) + '\\n')   \n",
    "    "
   ]
  },
  {
   "cell_type": "code",
   "execution_count": 31,
   "metadata": {},
   "outputs": [
    {
     "name": "stdout",
     "output_type": "stream",
     "text": [
      "Success all Dataset Groups and associated artifacts where deleted\n"
     ]
    }
   ],
   "source": [
    "response = personalize.list_dataset_groups(\n",
    ")\n",
    "if len(response['datasetGroups']) == 0:\n",
    "    print('Success all Dataset Groups and associated artifacts where deleted')\n",
    "else:\n",
    "    for dataSetGroup in response['datasetGroups']:\n",
    "        delete_dataset_group( dataSetGroup['datasetGroupArn'])\n",
    "    \n",
    "    "
   ]
  },
  {
   "cell_type": "markdown",
   "metadata": {},
   "source": [
    "## Deleting Schemas\n",
    "Schemas are a little tricky since they are not defined within the UI of Amazon Personalize or as part of a Data Set Group. The cell below will iterate over each of the schemas and delete those no longer in use."
   ]
  },
  {
   "cell_type": "code",
   "execution_count": 32,
   "metadata": {},
   "outputs": [],
   "source": [
    "schemas_resp = personalize.list_schemas()['schemas']\n",
    "for item in schemas_resp:\n",
    "    try:\n",
    "        personalize.delete_schema(schemaArn=item['schemaArn'])\n",
    "    except Exception:\n",
    "        pass"
   ]
  },
  {
   "cell_type": "code",
   "execution_count": null,
   "metadata": {},
   "outputs": [],
   "source": []
  }
 ],
 "metadata": {
  "kernelspec": {
   "display_name": "conda_python3",
   "language": "python",
   "name": "conda_python3"
  },
  "language_info": {
   "codemirror_mode": {
    "name": "ipython",
    "version": 3
   },
   "file_extension": ".py",
   "mimetype": "text/x-python",
   "name": "python",
   "nbconvert_exporter": "python",
   "pygments_lexer": "ipython3",
   "version": "3.6.5"
  }
 },
 "nbformat": 4,
 "nbformat_minor": 4
}
